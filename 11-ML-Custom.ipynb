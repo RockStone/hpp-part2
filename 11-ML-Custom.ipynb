{
 "cells": [
  {
   "cell_type": "markdown",
   "metadata": {},
   "source": [
    "# Custom Algorithms"
   ]
  },
  {
   "cell_type": "code",
   "execution_count": null,
   "metadata": {},
   "outputs": [],
   "source": [
    "from dask.distributed import Client\n",
    "\n",
    "client = Client(n_workers=4, threads_per_worker=1, memory_limit='128MB')\n",
    "\n",
    "client"
   ]
  },
  {
   "cell_type": "markdown",
   "metadata": {},
   "source": [
    "We'll look at some minimal Monte Carlo algorithms and implement them using three Dask patterns for custom parallel programming:\n",
    "* Dask Delayed\n",
    "* `concurrent.Future`\n",
    "* Dask Actors (experimental)\n",
    "\n",
    "### Algorithm: Approximate π via Random Sampling in the Unit Square\n",
    "\n",
    "π is approximately 4*(p/n) where n is a number of random samples in the unit square, and p is the number of those lying within 1 unit (Euclidean distance) of the origin.\n",
    "\n",
    "This function generates a sample and returns 1 if the point is within the unit circle, otherwise it returns 0."
   ]
  },
  {
   "cell_type": "code",
   "execution_count": null,
   "metadata": {},
   "outputs": [],
   "source": [
    "import random\n",
    "\n",
    "def sample():\n",
    "    x = random.uniform(0, 1)\n",
    "    y = random.uniform(0, 1)\n",
    "    d = x*x + y*y\n",
    "    return 1 if d < 1 else 0"
   ]
  },
  {
   "cell_type": "markdown",
   "metadata": {},
   "source": [
    "### Implementation with `delayed`\n",
    "\n",
    "Using `delayed` we can create lazy versions of the sample and sum functions"
   ]
  },
  {
   "cell_type": "code",
   "execution_count": null,
   "metadata": {},
   "outputs": [],
   "source": [
    "from dask import delayed\n",
    "\n",
    "lazy_sample = delayed(sample)\n",
    "\n",
    "lazy_sum = delayed(sum)\n",
    "\n",
    "n = 1000"
   ]
  },
  {
   "cell_type": "code",
   "execution_count": null,
   "metadata": {},
   "outputs": [],
   "source": [
    "lazy_sample()"
   ]
  },
  {
   "cell_type": "code",
   "execution_count": null,
   "metadata": {},
   "outputs": [],
   "source": [
    "lazy_sample().compute()"
   ]
  },
  {
   "cell_type": "code",
   "execution_count": null,
   "metadata": {},
   "outputs": [],
   "source": [
    "s = lazy_sum([lazy_sample(), lazy_sample(), lazy_sample()])\n",
    "s"
   ]
  },
  {
   "cell_type": "code",
   "execution_count": null,
   "metadata": {},
   "outputs": [],
   "source": [
    "s.compute()"
   ]
  },
  {
   "cell_type": "markdown",
   "metadata": {},
   "source": [
    "So the overall approximation for n samples is something like:"
   ]
  },
  {
   "cell_type": "code",
   "execution_count": null,
   "metadata": {},
   "outputs": [],
   "source": [
    "pi_hat = (4/n) * lazy_sum([lazy_sample() for s in range(n)])\n",
    "\n",
    "pi_hat"
   ]
  },
  {
   "cell_type": "code",
   "execution_count": null,
   "metadata": {},
   "outputs": [],
   "source": [
    "pi_hat.compute()"
   ]
  },
  {
   "cell_type": "markdown",
   "metadata": {},
   "source": [
    "Obviously, this is neither a great way to compute pi, nor even a great way to implement this estimation, since NumPy (or CuPy) will let us draw and add many more samples, faster and easier. This is just an example of how the pieces snap together to implement work for Dask's scheduler.\n",
    "\n",
    "Note also that instead of wrapping our `sample` function via `delayed(sample)`, we could have marked it with the decorator `@dask.delayed`\n",
    "\n",
    "### Implementation with `Future`"
   ]
  },
  {
   "cell_type": "code",
   "execution_count": null,
   "metadata": {},
   "outputs": [],
   "source": [
    "futures = []\n",
    "\n",
    "for i in range(10):\n",
    "    futures.append(client.submit(sample))"
   ]
  },
  {
   "cell_type": "code",
   "execution_count": null,
   "metadata": {},
   "outputs": [],
   "source": [
    "futures"
   ]
  },
  {
   "cell_type": "code",
   "execution_count": null,
   "metadata": {},
   "outputs": [],
   "source": [
    "futures = []\n",
    "\n",
    "for i in range(1000):\n",
    "    futures.append(client.submit(sample, pure=False))"
   ]
  },
  {
   "cell_type": "code",
   "execution_count": null,
   "metadata": {},
   "outputs": [],
   "source": [
    "results = client.gather(futures)\n",
    "results[:10]"
   ]
  },
  {
   "cell_type": "code",
   "execution_count": null,
   "metadata": {},
   "outputs": [],
   "source": [
    "4*sum(results)/len(results)"
   ]
  },
  {
   "cell_type": "markdown",
   "metadata": {},
   "source": [
    "#### Lab Activity\n",
    "\n",
    "Implement this approximation iterating 1000 samples at a time and running until the previous and current values differ by less than 0.01"
   ]
  },
  {
   "cell_type": "markdown",
   "metadata": {},
   "source": [
    "### Random Walks with Future: Stateless Compute, Stateful Client Code\n",
    "\n",
    "We'll run a set of 2-D random walks, starting at the origin, with (x,y) step size drawn from Uniform[-1,1], and terminating when a walker is more than 2 units from the origin.\n",
    "\n",
    "By using Dask's `as_completed` we can schedule new steps as necessary across all of the walkers."
   ]
  },
  {
   "cell_type": "code",
   "execution_count": null,
   "metadata": {},
   "outputs": [],
   "source": [
    "def step(pos):\n",
    "    id = pos[0]\n",
    "    x = pos[1] + random.uniform(-1, 1)\n",
    "    y = pos[2] + random.uniform(-1, 1)\n",
    "    return (id, x,y)"
   ]
  },
  {
   "cell_type": "code",
   "execution_count": null,
   "metadata": {},
   "outputs": [],
   "source": [
    "t = step((0,0,0))\n",
    "t"
   ]
  },
  {
   "cell_type": "code",
   "execution_count": null,
   "metadata": {},
   "outputs": [],
   "source": [
    "from dask.distributed import as_completed\n",
    "\n",
    "num_walks = 3\n",
    "\n",
    "max_distance_squared = 2*2\n",
    "\n",
    "ac = as_completed([client.submit(step, (i,0,0)) for i in range(num_walks)])"
   ]
  },
  {
   "cell_type": "code",
   "execution_count": null,
   "metadata": {},
   "outputs": [],
   "source": [
    "for i in range(num_walks):\n",
    "    print(ac.next().result())"
   ]
  },
  {
   "cell_type": "code",
   "execution_count": null,
   "metadata": {},
   "outputs": [],
   "source": [
    "ac = as_completed([client.submit(step, (i,0,0)) for i in range(num_walks)])\n",
    "\n",
    "for future in ac:\n",
    "    r = future.result()\n",
    "    print(r)\n",
    "    if (r[1]**2 + r[2]**2) < max_distance_squared:\n",
    "        ac.add(client.submit(step, r))\n",
    "    else:\n",
    "        print(f\"Walk {r[0]} is done\")"
   ]
  },
  {
   "cell_type": "markdown",
   "metadata": {},
   "source": [
    "### Random Walks with Stateful Actors (Experimental)\n",
    "\n",
    "Dask's Actor support is a new feature and allows for large-scale collections of stateful actors (or agents), useful for techniques such as simulation. Actors operations do not incur scheduler overhead, so they may also be useful if a large number of small operations is needed and would exceed ~4000/sec, a current rough limit on the scheduler.\n",
    "\n",
    "*Note: Dask Actors do not (yet) have fault-tolerance or load-balancing guarantees, nor robust diagnostics.* "
   ]
  },
  {
   "cell_type": "code",
   "execution_count": null,
   "metadata": {},
   "outputs": [],
   "source": [
    "class Walker:\n",
    "    distance_limit = max_distance_squared\n",
    "    x = 0 #NOTE: these class variables will become instance property accessors on the Actor\n",
    "    y = 0\n",
    "    id = 0\n",
    "\n",
    "    def __init__(self, id):\n",
    "        self.x = 0\n",
    "        self.y = 0\n",
    "        self.id = id\n",
    "\n",
    "    def walk(self):\n",
    "        steps = 0\n",
    "        while (self.x**2 + self.y**2) < Walker.distance_limit:\n",
    "            self.x += random.uniform(-1,1)\n",
    "            self.y += random.uniform(-1,1)\n",
    "            steps += 1\n",
    "        return steps"
   ]
  },
  {
   "cell_type": "code",
   "execution_count": null,
   "metadata": {},
   "outputs": [],
   "source": [
    "w = Walker(42)"
   ]
  },
  {
   "cell_type": "code",
   "execution_count": null,
   "metadata": {},
   "outputs": [],
   "source": [
    "w.walk()"
   ]
  },
  {
   "cell_type": "code",
   "execution_count": null,
   "metadata": {},
   "outputs": [],
   "source": [
    "wf = client.submit(Walker, 13, actor=True)"
   ]
  },
  {
   "cell_type": "code",
   "execution_count": null,
   "metadata": {},
   "outputs": [],
   "source": [
    "wf"
   ]
  },
  {
   "cell_type": "code",
   "execution_count": null,
   "metadata": {},
   "outputs": [],
   "source": [
    "w2 = wf.result()"
   ]
  },
  {
   "cell_type": "code",
   "execution_count": null,
   "metadata": {},
   "outputs": [],
   "source": [
    "w2"
   ]
  },
  {
   "cell_type": "code",
   "execution_count": null,
   "metadata": {},
   "outputs": [],
   "source": [
    "sf = w2.walk()"
   ]
  },
  {
   "cell_type": "code",
   "execution_count": null,
   "metadata": {},
   "outputs": [],
   "source": [
    "sf"
   ]
  },
  {
   "cell_type": "markdown",
   "metadata": {},
   "source": [
    "`ActorFuture` is currently limited and does not support the full Future interface. Only `.result()` is supported."
   ]
  },
  {
   "cell_type": "code",
   "execution_count": null,
   "metadata": {},
   "outputs": [],
   "source": [
    "sf.result()"
   ]
  },
  {
   "cell_type": "code",
   "execution_count": null,
   "metadata": {},
   "outputs": [],
   "source": [
    "w2.x"
   ]
  },
  {
   "cell_type": "code",
   "execution_count": null,
   "metadata": {},
   "outputs": [],
   "source": [
    "w2.id"
   ]
  },
  {
   "cell_type": "code",
   "execution_count": null,
   "metadata": {},
   "outputs": [],
   "source": [
    "num_walkers = 10\n",
    "\n",
    "walker_futures = [client.submit(Walker, i, actor=True) for i in range(num_walkers)]\n",
    "\n",
    "walkers = client.gather(walker_futures)"
   ]
  },
  {
   "cell_type": "code",
   "execution_count": null,
   "metadata": {},
   "outputs": [],
   "source": [
    "walkers"
   ]
  },
  {
   "cell_type": "code",
   "execution_count": null,
   "metadata": {},
   "outputs": [],
   "source": [
    "steps_futures = [w.walk() for w in walkers]\n",
    "steps_futures"
   ]
  },
  {
   "cell_type": "code",
   "execution_count": null,
   "metadata": {},
   "outputs": [],
   "source": [
    "[sf.result() for sf in steps_futures]"
   ]
  },
  {
   "cell_type": "markdown",
   "metadata": {},
   "source": [
    "### Distributed Peer-to-Peer with Actors\n",
    "\n",
    "Multiple actors of multiple types can exist acros a cluster and call methods directly on one another. This allows for a many-many, distributed system, suitable for some specialized algorithms.\n",
    "\n",
    "There are a couple of (current) limitations to watch out for, though, including:\n",
    "* Actor method invocations are by default processed on a single thread per worker\n",
    "* Actors may be assigned to the same worker\n",
    "\n",
    "Together, those constraints mean that, if we want Actors to invoke methods on each other, we need to move them to the Worker's event loop, which we can do via `async / await` (and also make sure we're not doing any long/blocking work)\n",
    "\n",
    "To make it a little easier to see some of these elements, we'll shutdown out cluster and spin up a new one:"
   ]
  },
  {
   "cell_type": "code",
   "execution_count": null,
   "metadata": {},
   "outputs": [],
   "source": [
    "client.close()"
   ]
  },
  {
   "cell_type": "code",
   "execution_count": null,
   "metadata": {},
   "outputs": [],
   "source": [
    "client = Client(n_workers=4, threads_per_worker=1, memory_limit='128MB')\n",
    "\n",
    "client"
   ]
  },
  {
   "cell_type": "code",
   "execution_count": null,
   "metadata": {},
   "outputs": [],
   "source": [
    "import logging\n",
    "\n",
    "class Borrower:\n",
    "    debt = 0\n",
    "    bank = None\n",
    "    \n",
    "    def __init__(self):\n",
    "        self.bank = None\n",
    "        self.debt = 0\n",
    "        \n",
    "    def assign_bank(self, bank):\n",
    "        self.bank = bank\n",
    "        return True\n",
    "    \n",
    "    async def borrow(self, amount):\n",
    "        logger = logging.getLogger(\"distributed.worker\")\n",
    "        logger.info(\"Borrower executing borrow\")\n",
    "        loan = await self.bank.borrow(amount)\n",
    "        self.debt += loan\n",
    "        return loan\n",
    "        \n",
    "class Bank:\n",
    "    funds = 0\n",
    "    \n",
    "    def __init__(self, funds):\n",
    "        self.funds = funds\n",
    "\n",
    "    async def borrow(self, amount):\n",
    "        logger = logging.getLogger(\"distributed.worker\")\n",
    "        logger.info(\"Bank executing borrow\")\n",
    "        loan = min(amount, self.funds)\n",
    "        self.funds -= loan\n",
    "        return loan"
   ]
  },
  {
   "cell_type": "code",
   "execution_count": null,
   "metadata": {},
   "outputs": [],
   "source": [
    "borrower = client.submit(Borrower, actor=True).result()"
   ]
  },
  {
   "cell_type": "code",
   "execution_count": null,
   "metadata": {},
   "outputs": [],
   "source": [
    "borrower"
   ]
  },
  {
   "cell_type": "code",
   "execution_count": null,
   "metadata": {},
   "outputs": [],
   "source": [
    "borrower.debt"
   ]
  },
  {
   "cell_type": "code",
   "execution_count": null,
   "metadata": {},
   "outputs": [],
   "source": [
    "bank = client.submit(Bank, 1000, actor=True).result()\n",
    "bank.funds"
   ]
  },
  {
   "cell_type": "code",
   "execution_count": null,
   "metadata": {},
   "outputs": [],
   "source": [
    "borrower.assign_bank(bank).result()"
   ]
  },
  {
   "cell_type": "code",
   "execution_count": null,
   "metadata": {},
   "outputs": [],
   "source": [
    "borrower.bank"
   ]
  },
  {
   "cell_type": "code",
   "execution_count": null,
   "metadata": {},
   "outputs": [],
   "source": [
    "borrower.borrow(600).result()"
   ]
  },
  {
   "cell_type": "code",
   "execution_count": null,
   "metadata": {},
   "outputs": [],
   "source": [
    "borrower.debt"
   ]
  },
  {
   "cell_type": "code",
   "execution_count": null,
   "metadata": {},
   "outputs": [],
   "source": [
    "bank.funds"
   ]
  },
  {
   "cell_type": "code",
   "execution_count": null,
   "metadata": {},
   "outputs": [],
   "source": [
    "borrower.borrow(500).result()"
   ]
  },
  {
   "cell_type": "code",
   "execution_count": null,
   "metadata": {},
   "outputs": [],
   "source": [
    "borrower.debt"
   ]
  },
  {
   "cell_type": "code",
   "execution_count": null,
   "metadata": {},
   "outputs": [],
   "source": [
    "bank.funds"
   ]
  },
  {
   "cell_type": "code",
   "execution_count": null,
   "metadata": {},
   "outputs": [],
   "source": [
    "bank2 = client.submit(Bank, 100, actor=True).result()\n",
    "bank2.funds"
   ]
  },
  {
   "cell_type": "code",
   "execution_count": null,
   "metadata": {},
   "outputs": [],
   "source": [
    "borrower.assign_bank(bank2).result()"
   ]
  },
  {
   "cell_type": "code",
   "execution_count": null,
   "metadata": {},
   "outputs": [],
   "source": [
    "borrower.borrow(500).result()"
   ]
  },
  {
   "cell_type": "code",
   "execution_count": null,
   "metadata": {},
   "outputs": [],
   "source": [
    "borrower.debt"
   ]
  },
  {
   "cell_type": "markdown",
   "metadata": {},
   "source": [
    "Great! But let's take a look at the worker detail page: in the dashboard, pick the info tab.\n",
    "\n",
    "The __in memory__ column is showing the actors on each worker ... and they're all on the same one.\n",
    "\n",
    "Also, check the worker logs: the actor logging messages are all on that same worker's log as well.\n",
    "\n",
    "If you want, you can spin up another 100 or 1000 actors and they still end up on one worker. This may be remedied in the future, but for now we can balance or place our actors.\n",
    "\n",
    "First, obtain the worker addresses."
   ]
  },
  {
   "cell_type": "code",
   "execution_count": null,
   "metadata": {},
   "outputs": [],
   "source": [
    "workers = client.get_worker_logs(n=0).keys()\n",
    "addresses = [w for w in workers]\n",
    "addresses"
   ]
  },
  {
   "cell_type": "markdown",
   "metadata": {},
   "source": [
    "Now, launch an actor and specify one or more allowed workers to host that actor"
   ]
  },
  {
   "cell_type": "code",
   "execution_count": null,
   "metadata": {},
   "outputs": [],
   "source": [
    "client.submit(Bank, 100, actor=True, workers=[addresses[3]]).result()"
   ]
  },
  {
   "cell_type": "markdown",
   "metadata": {},
   "source": [
    "Check the dashboard again: you should see an actor on worker #3 now."
   ]
  },
  {
   "cell_type": "code",
   "execution_count": null,
   "metadata": {},
   "outputs": [],
   "source": [
    "client.close()"
   ]
  }
 ],
 "metadata": {
  "kernelspec": {
   "display_name": "Python 3",
   "language": "python",
   "name": "python3"
  },
  "language_info": {
   "codemirror_mode": {
    "name": "ipython",
    "version": 3
   },
   "file_extension": ".py",
   "mimetype": "text/x-python",
   "name": "python",
   "nbconvert_exporter": "python",
   "pygments_lexer": "ipython3",
   "version": "3.7.6"
  }
 },
 "nbformat": 4,
 "nbformat_minor": 4
}
