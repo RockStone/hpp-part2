{
 "cells": [
  {
   "cell_type": "markdown",
   "metadata": {},
   "source": [
    "# Concurrency Issues and Patterns\n",
    "\n",
    "Once we've sped up our code on a single core, the easiest remaining performance opportunities are exploitation of multiple cores (CPU, GPU, heterogeneous, external nodes, etc.)\n",
    "\n",
    "### Multithreading\n",
    "\n",
    "Like most modern languages, Python supports multithreading.\n",
    "\n",
    "Multithreading is easy to access (if not easy to use properly) from an API perspective.\n",
    "\n",
    "However, there are numerous drawbacks:\n",
    "* Humans are notoriously bad at managing concurrency and shared state directly\n",
    "    * Even if you are great at it ... don't you want a new project someday? That means transitioning your thread-based code to someone else (!)\n",
    "* Python's famous GIL (or \"global interpreter lock\") limits the effective concurrency, depending upon what's actually occurring in the threads\n",
    "\n",
    "Once again, the concerns depends on the audience and the goal. Python multithreading can be a key tool for infrastructure developers, but is likely not an ideal tool for application developers.\n",
    "\n",
    "### Multiprocessing\n",
    "\n",
    "Python also has a high-level interface for managing multiple processes -- running Python or other code.\n",
    "\n",
    "Multiprocessing Python avoids the GIL, since each process has its own GIL. \n",
    "\n",
    "The MP API also provides some helpers for scheduling the various processes as well as sharing data: https://docs.python.org/3/library/multiprocessing.html\n",
    "\n",
    "At the same time, the MP module doesn't provide distributed scheduling (beyond the local node), sophisticated fault tolerance semantice, or an easy way to exploit heterogenous compute (specifically GPU cores).\n",
    "\n",
    "### What Would We Like?\n",
    "\n",
    "Ideally, a library that provides...\n",
    "* Easy parallelism, with no GIL issues\n",
    "* Scale to nodes, not just cores\n",
    "* An event/reactive/future-style API, so that programmers aren't managing locks, semaphores, or shared state\n",
    "* Some facility for exploiting GPU (or any other compute device addressable in Python)\n",
    "* Pythonic look & feel, mental model (i.e., not like PySpark)\n"
   ]
  },
  {
   "cell_type": "code",
   "execution_count": null,
   "metadata": {},
   "outputs": [],
   "source": []
  }
 ],
 "metadata": {
  "kernelspec": {
   "display_name": "Python 3",
   "language": "python",
   "name": "python3"
  },
  "language_info": {
   "codemirror_mode": {
    "name": "ipython",
    "version": 3
   },
   "file_extension": ".py",
   "mimetype": "text/x-python",
   "name": "python",
   "nbconvert_exporter": "python",
   "pygments_lexer": "ipython3",
   "version": "3.7.6"
  }
 },
 "nbformat": 4,
 "nbformat_minor": 4
}
